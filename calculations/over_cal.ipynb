{
 "cells": [
  {
   "cell_type": "code",
   "execution_count": 2,
   "id": "ffab89ef",
   "metadata": {},
   "outputs": [],
   "source": [
    "import numpy as np\n",
    "import pandas as pd\n",
    "import sqlite3\n",
    "import pingouin as pg\n",
    "from scipy.stats import chi2_contingency"
   ]
  },
  {
   "cell_type": "code",
   "execution_count": 3,
   "id": "c5af155a",
   "metadata": {},
   "outputs": [],
   "source": [
    "#raw_tables\n",
    "prior = pd.read_csv(\"prior.csv\")\n",
    "\n",
    "con = sqlite3.connect(\"myDB.db\")\n",
    "user = pd.read_sql_query(\"SELECT * from user\", con)\n",
    "answer = pd.read_sql_query(\"SELECT * from answers\", con)\n",
    "con.close()\n",
    "\n",
    "user['time_hash'] = user['time_hash'] .astype(int)\n",
    "answer['task_time'] = (pd.to_datetime(answer.end_time) - pd.to_datetime(answer.start_time))/np.timedelta64(1,'s')\n",
    "\n",
    "data = pd.merge(user,answer,left_on='time_hash',right_on='user_hid')\n",
    "numbers = data[['id_x','username','group','block_num','task_num','answer','task_time',\n",
    "                'how_helpful','how_comfortable']].dropna()\n",
    "words = user[['id','username','group','reason']].dropna()"
   ]
  },
  {
   "cell_type": "code",
   "execution_count": 10,
   "id": "89e450fc",
   "metadata": {},
   "outputs": [],
   "source": [
    "#task_tables\n",
    "def table_maker(task_num_block0, task_num_block1, check_string):\n",
    "    block0_task = numbers.loc[(numbers.block_num == 0) & (numbers.task_num ==task_num_block0), \n",
    "                       ['id_x','username','group','answer', 'task_time','how_helpful','how_comfortable']]\n",
    "    block1_task = numbers.loc[(numbers.block_num == 1) & (numbers.task_num ==task_num_block1), \n",
    "                       ['id_x','username','group','answer', 'task_time','how_helpful','how_comfortable']]\n",
    "    \n",
    "    table_task = pd.merge(block0_task, block1_task, on=['id_x', 'username','group','how_helpful','how_comfortable'])\n",
    "    table_task['delta_time'] = table_task.task_time_y-table_task.task_time_x\n",
    "    table_task['change'] = (table_task.answer_x.str.contains(check_string, regex=False)!=\n",
    "                             table_task.answer_y.str.contains(check_string, regex=False)) \n",
    "    table_task.loc[table_task.answer_x.str.contains(check_string, regex=False), 'change'] = 'No_set'\n",
    "    table_task = pd.merge(prior,table_task, on='username')\n",
    "    table_task.loc[~(table_task.set.str.contains(check_string, regex=False)), 'change'] = 'No_preset'\n",
    "    table_task = table_task.loc[: , ['id_x', 'username', 'set', 'group', 'answer_x' , \n",
    "                                     'task_time_x', 'answer_y' , 'task_time_y', \n",
    "                                     'delta_time', 'change', 'how_helpful', 'how_comfortable']]\n",
    "    return table_task\n",
    "\n",
    "lambda_table = table_maker(3, 2, check_string ='lambda')\n",
    "isinstance_table = table_maker(0, 1, check_string ='isinstance')\n",
    "enumerate_table = table_maker(1, 0, check_string ='enumerate')\n",
    "sum_table = table_maker(2, 3, check_string ='sum(')"
   ]
  },
  {
   "cell_type": "code",
   "execution_count": 70,
   "id": "678d6135",
   "metadata": {},
   "outputs": [],
   "source": [
    "#pre_analysis_tables\n",
    "def no_preset_table(table_name):\n",
    "    no_preset_table = table_name.loc[table_name.change.str.contains('No_preset', na=False), \n",
    "                                     ['id_x', 'group', 'answer_x', 'answer_y', 'delta_time', \n",
    "                                      'how_helpful','how_comfortable']]\n",
    "    return no_preset_table\n",
    "\n",
    "def no_set_table(table_name):\n",
    "    no_set_table = table_name.loc[table_name.change.str.contains('No_set', na=False), \n",
    "                                     ['id_x', 'group', 'answer_x', 'answer_y', 'delta_time',\n",
    "                                      'how_helpful','how_comfortable']]\n",
    "    return no_set_table\n",
    "\n",
    "def is_change_table(table_name):\n",
    "    is_change_table = table_name.loc[(table_name.change.isin([True, False])), \n",
    "                                  ['id_x', 'group', 'answer_x', 'answer_y', 'delta_time', 'change', \n",
    "                                   'how_helpful','how_comfortable']]\n",
    "    return is_change_table"
   ]
  },
  {
   "cell_type": "code",
   "execution_count": 26,
   "id": "e9cb0ea0",
   "metadata": {},
   "outputs": [],
   "source": [
    "#to_see_the_tables\n",
    "\n",
    "#lambda_table\n",
    "#no_preset_table(lambda_table)\n",
    "#is_change_table(lambda_table)\n",
    "#no_set_table(lambda_table)\n",
    "\n",
    "#isinstance_table\n",
    "#no_preset_table(isinstance_table)\n",
    "#no_set_table(isinstance_table)\n",
    "#is_change_table(isinstance_table)\n",
    "\n",
    "#enumerate_table\n",
    "#no_preset_table(enumerate_table)\n",
    "#no_set_table(enumerate_table)\n",
    "#is_change_table(enumerate_table)\n",
    "\n",
    "#sum_table\n",
    "#no_preset_table(sum_table)\n",
    "#no_set_table(sum_table)\n",
    "#is_change_table(sum_table)"
   ]
  },
  {
   "cell_type": "code",
   "execution_count": 43,
   "id": "0b9834ff",
   "metadata": {},
   "outputs": [],
   "source": [
    "#analysis_tables\n",
    "\n",
    "#dalta_or_change_corr_with_«how»questions\n",
    "def corr_result(table_name, x, y):\n",
    "    pcor = pg.partial_corr(data=table_name, x=x, y=y, covar='group').round(3)\n",
    "    return (pcor)\n",
    "\n",
    "#for_is_change_table\n",
    "def chi2_result(table_name):\n",
    "    data = is_change_table(table_name)\n",
    "    data_crosstab = pd.crosstab(data.group, data.change)\n",
    "    return (chi2_contingency(data_crosstab))\n",
    "\n",
    "#may be used for both no_set_table and no_preset_table\n",
    "def anova_result(table_name):\n",
    "    aov = pg.anova(dv='delta_time', between='group', data=table_name, detailed=True)\n",
    "    return (aov)"
   ]
  }
 ],
 "metadata": {
  "kernelspec": {
   "display_name": "Python 3",
   "language": "python",
   "name": "python3"
  },
  "language_info": {
   "codemirror_mode": {
    "name": "ipython",
    "version": 3
   },
   "file_extension": ".py",
   "mimetype": "text/x-python",
   "name": "python",
   "nbconvert_exporter": "python",
   "pygments_lexer": "ipython3",
   "version": "3.9.5"
  }
 },
 "nbformat": 4,
 "nbformat_minor": 5
}