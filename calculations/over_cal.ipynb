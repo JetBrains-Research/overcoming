{
 "cells": [
  {
   "cell_type": "code",
   "execution_count": null,
   "id": "ffab89ef",
   "metadata": {},
   "outputs": [],
   "source": [
    "import numpy as np\n",
    "import pandas as pd\n",
    "import pingouin as pg\n",
    "from scipy import stats\n",
    "from scipy.stats import chi2_contingency\n",
    "import seaborn as sns\n",
    "import matplotlib.pyplot as plt\n",
    "from analysis_helper import analysis_tables, table_maker"
   ]
  },
  {
   "cell_type": "code",
   "execution_count": null,
   "id": "c5af155a",
   "metadata": {},
   "outputs": [],
   "source": [
    "#call_raw_tables\n",
    "prior, data, numbers, words, participants_with_na_values = analysis_tables()\n",
    "\n",
    "#call_task_tables\n",
    "lambda_table = table_maker(3, 2, check_string='lambda')\n",
    "isinstance_table = table_maker(0, 1, check_string='isinstance')\n",
    "enumerate_table = table_maker(1, 0, check_string='enumerate')\n",
    "sum_table = table_maker(2, 3, check_string='sum(')"
   ]
  },
  {
   "cell_type": "code",
   "execution_count": null,
   "id": "678d6135",
   "metadata": {},
   "outputs": [],
   "source": [
    "#pre_analysis_tables\n",
    "def no_preset_table(table_name):\n",
    "    no_preset_table = table_name.loc[table_name.change.str.contains('No_preset', na=False),\n",
    "                                     ['id_user', 'group', 'answer_block0', 'answer_block1', 'delta_time',\n",
    "                                      'how_helpful', 'how_comfortable']]\n",
    "    return no_preset_table\n",
    "\n",
    "\n",
    "def no_set_table(table_name):\n",
    "    no_set_table = table_name.loc[table_name.change.str.contains('No_set', na=False),\n",
    "                                  ['id_user', 'group', 'answer_block0', 'answer_block1', 'delta_time',\n",
    "                                   'how_helpful', 'how_comfortable']]\n",
    "    return no_set_table\n",
    "\n",
    "\n",
    "def solution_change_table(table_name, set_type):\n",
    "    solution_change_table = table_name.loc[(table_name.change.isin([True, False])),\n",
    "                                     ['id_user', 'group', 'answer_block0', 'answer_block1',\n",
    "                                      \"task_time_block0\", \"task_time_block1\",\n",
    "                                      'delta_time', 'change', 'how_helpful', 'how_comfortable']]\n",
    "    solution_change_table['set_type'] = str(set_type)\n",
    "    return solution_change_table"
   ]
  },
  {
   "cell_type": "code",
   "execution_count": null,
   "id": "e9cb0ea0",
   "metadata": {},
   "outputs": [],
   "source": [
    "#to_see_the_tables\n",
    "\n",
    "#lambda_table\n",
    "#no_preset_table(lambda_table)\n",
    "#solution_change_table(lambda_table, \"lambda\")\n",
    "#no_set_table(lambda_table)\n",
    "\n",
    "#isinstance_table\n",
    "#no_preset_table(isinstance_table)\n",
    "#no_set_table(isinstance_table)\n",
    "#solution_change_table(isinstance_table, \"isinstance\")\n",
    "\n",
    "#enumerate_table\n",
    "#no_preset_table(enumerate_table)\n",
    "#no_set_table(enumerate_table)\n",
    "#solution_change_table(enumerate_table, \"enumerate\")\n",
    "\n",
    "#sum_table\n",
    "#no_preset_table(sum_table)\n",
    "#no_set_table(sum_table)\n",
    "#solution_change_table(sum_table, \"sum\")"
   ]
  },
  {
   "cell_type": "code",
   "execution_count": null,
   "id": "0b9834ff",
   "metadata": {},
   "outputs": [],
   "source": [
    "#analysis_tables\n",
    "\n",
    "#dalta or change corr with «how»questions\n",
    "def corr_result(table_name, x, y):\n",
    "    table_name = table_name.loc[table_name.group > 0].copy(deep=True)\n",
    "    table_name['how_helpful'] = table_name['how_helpful'].astype(int)\n",
    "    table_name['how_comfortable'] = table_name['how_comfortable'].astype(int)\n",
    "    pcor = pg.partial_corr(data=table_name, x=x, y=y, covar='group').round(3)\n",
    "    return pcor\n",
    "\n",
    "\n",
    "#stat sig of the group effect on change presence\n",
    "def chi2_result(table_name, set_type):\n",
    "    data = solution_change_table(table_name, set_type)\n",
    "    data_crosstab = pd.crosstab(data.group, data.change)\n",
    "    return chi2_contingency(data_crosstab)\n",
    "\n",
    "\n",
    "#stat sig of the group effect on delta_time\n",
    "def anova_result(table_name):\n",
    "    table_name = table_name[(np.abs(stats.zscore(table_name[\"delta_time\"])) < 3)]\n",
    "    aov = pg.anova(dv='delta_time', between='group', data=table_name, detailed=True)\n",
    "    return aov"
   ]
  },
  {
   "cell_type": "code",
   "execution_count": null,
   "id": "0c83d815",
   "metadata": {},
   "outputs": [],
   "source": [
    "#plot_months_to_number_of_set_corr\n",
    "sns.set_theme(style=\"whitegrid\", palette=\"pastel\")\n",
    "ax = sns.catplot(x=\"set_count\", y=\"months\", kind=\"box\", data=prior)\n",
    "ax.set(ylabel=\"Python experience in months\", xlabel=\"Number of exposed sets\")"
   ]
  },
  {
   "cell_type": "code",
   "execution_count": null,
   "id": "95dee6b3",
   "metadata": {},
   "outputs": [],
   "source": [
    "#plot_months_to_types_of_set_corr\n",
    "participants_prior = prior.loc[(prior.exp == 1)]\n",
    "participants = pd.DataFrame(participants_prior.set.str.split(',').tolist(), index=participants_prior.username).stack()\n",
    "participants = participants.reset_index([0, 'username'])\n",
    "participants.columns = ['username', 'set']\n",
    "participants = pd.merge(participants_prior, participants, on=['username'], suffixes=('_prior', '_type') )\n",
    "participants = participants.loc[:, ['username', 'months', 'set_count', 'set_type']]\n",
    "\n",
    "sns.set_theme(style=\"whitegrid\", palette=\"pastel\")\n",
    "ax = sns.catplot(x=\"set_type\", y=\"months\", data=participants, kind=\"box\")\n",
    "ax.set(ylabel=\"Python experience in months\", xlabel=\"Exposed sets\")"
   ]
  },
  {
   "cell_type": "code",
   "execution_count": null,
   "id": "bbb78126",
   "metadata": {
    "scrolled": true
   },
   "outputs": [],
   "source": [
    "#plot_percentage_of_set_types\n",
    "sns.set_theme(style=\"whitegrid\")\n",
    "ax = sns.displot(participants, x=\"set_type\", hue=\"set_type\", stat=\"density\", alpha=0.55, legend=False)\n",
    "ax.set(ylabel=\"Proportion of exposed sets\", xlabel=\"Exposed sets\")"
   ]
  },
  {
   "cell_type": "code",
   "execution_count": null,
   "id": "2f82936b",
   "metadata": {},
   "outputs": [],
   "source": [
    "#plot_change_freq_by_group\n",
    "table1 = solution_change_table(isinstance_table, \"isinstance\")\n",
    "table2 = solution_change_table(enumerate_table, \"enumerate\")\n",
    "table3 = solution_change_table(lambda_table, \"lambda\")\n",
    "table4 = solution_change_table(sum_table, \"sum\")\n",
    "all_change_tables = pd.concat([table1, table2, table3, table4])\n",
    "all_change_tables.group = all_change_tables.group.replace({0: 'Control', 1: 'Change', 2: \"Change and Forget\"})\n",
    "\n",
    "sns.set_theme(style=\"whitegrid\", palette=\"pastel\")\n",
    "g = sns.FacetGrid(all_change_tables, col=\"group\", height=4, aspect=.5)\n",
    "g.map_dataframe(sns.countplot, \"change\", order=[True, False])\n",
    "g.set_axis_labels(\"Solution change\", \"Number of cases\")\n",
    "g.axes[0,0].set_xlabel('')\n",
    "g.axes[0,1].set_xlabel('Solution change', labelpad=10)\n",
    "g.axes[0,2].set_xlabel('')\n",
    "g.set_titles(col_template=\"{col_name}\\n group\")"
   ]
  },
  {
   "cell_type": "code",
   "execution_count": null,
   "id": "2e6442cd",
   "metadata": {},
   "outputs": [],
   "source": [
    "#plot_mean_time_for_each_block_by_group\n",
    "time_table = pd.melt(all_change_tables, id_vars=['id_user', \"group\"], \n",
    "                     value_vars=['task_time_block0', 'task_time_block1'],\n",
    "                     var_name='step', value_name='time')\n",
    "time_table = time_table[(np.abs(stats.zscore(time_table[\"time\"])) < 3)]\n",
    "\n",
    "sns.set_theme(style=\"whitegrid\", palette=\"pastel\")\n",
    "ax = sns.pointplot(x=\"step\", y=\"time\", hue=\"group\", data=time_table, linestyles=[\"-\", \"--\", \":\"],\n",
    "                   ci=\"sd\", errwidth=1, capsize=.05, dodge=True)\n",
    "ax.set(ylabel=\"Time in seconds\", xlabel=\"Block of tasks\")\n",
    "ax.set_xticklabels([\"First\", \"Second\"])\n",
    "plt.legend(title='Group')\n",
    "plt.savefig(\"time.png\")"
   ]
  },
  {
   "cell_type": "code",
   "execution_count": null,
   "id": "703bcb33",
   "metadata": {},
   "outputs": [],
   "source": [
    "#plot_time_delta_by_group\n",
    "delta_time_table = all_change_tables[(np.abs(stats.zscore(all_change_tables[\"delta_time\"])) < 3)]\n",
    "\n",
    "ax = sns.catplot(x=\"group\", y=\"delta_time\", data=delta_time_table, kind=\"box\")\n",
    "ax.set(ylabel=\"Time delta in seconds\", xlabel=\"Group\")"
   ]
  }
 ],
 "metadata": {
  "kernelspec": {
   "display_name": "Python 3",
   "language": "python",
   "name": "python3"
  },
  "language_info": {
   "codemirror_mode": {
    "name": "ipython",
    "version": 3
   },
   "file_extension": ".py",
   "mimetype": "text/x-python",
   "name": "python",
   "nbconvert_exporter": "python",
   "pygments_lexer": "ipython3",
   "version": "3.9.5"
  }
 },
 "nbformat": 4,
 "nbformat_minor": 5
}