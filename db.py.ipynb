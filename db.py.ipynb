{
 "cells": [
  {
   "cell_type": "code",
   "execution_count": null,
   "id": "6dcb2e18",
   "metadata": {},
   "outputs": [],
   "source": [
    "import os\n",
    "import pymysql\n",
    "from flask import jsonify\n",
    "\n",
    "db_user = os.environ.get('CLOUD_SQL_USERNAME')\n",
    "db_password = os.environ.get('CLOUD_SQL_PASSWORD')\n",
    "db_name = os.environ.get('CLOUD_SQL_DATABASE_NAME')\n",
    "db_connection_name = os.environ.get('CLOUD_SQL_CONNECTION_NAME')\n",
    "\n",
    "\n",
    "def open_connection():\n",
    "    unix_socket = '/cloudsql/{}'.format(db_connection_name)\n",
    "    try:\n",
    "        if os.environ.get('GAE_ENV') == 'standard':\n",
    "            conn = pymysql.connect(user=db_user, password=db_password,\n",
    "                                unix_socket=unix_socket, db=db_name,\n",
    "                                cursorclass=pymysql.cursors.DictCursor\n",
    "                                )\n",
    "    except pymysql.MySQLError as e:\n",
    "        print(e)\n",
    "\n",
    "    return conn\n",
    "\n",
    "\n",
    "def get_answ():\n",
    "    conn = open_connection()\n",
    "    with conn.cursor() as cursor:\n",
    "        result = cursor.execute('SELECT * FROM ovcanswers;')\n",
    "        ovcanswers = cursor.fetchall()\n",
    "        if result > 0:\n",
    "            got_answ = jsonify(ovcanswers)\n",
    "        else:\n",
    "            got_answ = 'No Answers in DB'\n",
    "    conn.close()\n",
    "    return got_answ\n",
    "\n",
    "def add_answ(ovcanswers):\n",
    "    conn = open_connection()\n",
    "    with conn.cursor() as cursor:\n",
    "        cursor.execute('INSERT INTO ovcanswers (answer) VALUES(%s)', (ovcanswers[\"answer\"]))\n",
    "    conn.commit()\n",
    "    conn.close()"
   ]
  }
 ],
 "metadata": {
  "kernelspec": {
   "display_name": "Python 3",
   "language": "python",
   "name": "python3"
  },
  "language_info": {
   "codemirror_mode": {
    "name": "ipython",
    "version": 3
   },
   "file_extension": ".py",
   "mimetype": "text/x-python",
   "name": "python",
   "nbconvert_exporter": "python",
   "pygments_lexer": "ipython3",
   "version": "3.9.5"
  }
 },
 "nbformat": 4,
 "nbformat_minor": 5
}
