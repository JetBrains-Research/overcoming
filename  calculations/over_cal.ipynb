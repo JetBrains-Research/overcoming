{
 "cells": [
  {
   "cell_type": "code",
   "execution_count": 1,
   "id": "ffab89ef",
   "metadata": {},
   "outputs": [],
   "source": [
    "import numpy as np\n",
    "import pandas as pd\n",
    "import sqlite3"
   ]
  },
  {
   "cell_type": "code",
   "execution_count": 2,
   "id": "c5af155a",
   "metadata": {},
   "outputs": [],
   "source": [
    "#raw_tables\n",
    "prior = pd.read_csv(\"prior.csv\")\n",
    "\n",
    "con = sqlite3.connect(\"myDB.db\")\n",
    "user = pd.read_sql_query(\"SELECT * from user\", con)\n",
    "answer = pd.read_sql_query(\"SELECT * from answers\", con)\n",
    "con.close()\n",
    "\n",
    "user['time_hash'] = user['time_hash'] .astype(int)\n",
    "answer['task_time'] = (pd.to_datetime(answer.end_time) - pd.to_datetime(answer.start_time))/np.timedelta64(1,'s')\n",
    "\n",
    "data = pd.merge(user,answer,left_on='time_hash',right_on='user_hid')\n",
    "numbers = data[['id_x','username','group','block_num','task_num','answer','task_time']].dropna()"
   ]
  },
  {
   "cell_type": "code",
   "execution_count": 3,
   "id": "89e450fc",
   "metadata": {},
   "outputs": [],
   "source": [
    "#task_tables\n",
    "def table_maker(tn4bl1, tn4bl2, check_string):\n",
    "    bl0t = numbers.loc[(numbers.block_num == 0) & (numbers.task_num ==tn4bl1), \n",
    "                       ['id_x','username','group','answer', 'task_time']]\n",
    "    bl1t = numbers.loc[(numbers.block_num == 1) & (numbers.task_num ==tn4bl2), \n",
    "                       ['id_x','username','group','answer', 'task_time']]\n",
    "    \n",
    "    table_task = pd.merge(bl0t,bl1t,on=['id_x', 'username','group'])\n",
    "    table_task['delta_time'] = table_task.task_time_y-table_task.task_time_x\n",
    "    table_task['change'] = (table_task.answer_x.str.contains(check_string, regex=False)!=\n",
    "                             table_task.answer_y.str.contains(check_string, regex=False)) \n",
    "    table_task.loc[table_task.answer_x.str.contains(check_string, regex=False), 'change'] = 'No_set'\n",
    "    table_task = pd.merge(prior,table_task, on='username')\n",
    "    table_task.loc[~(table_task.set.str.contains(check_string, regex=False)), 'change'] = 'No_preset'\n",
    "    return table_task\n",
    "\n",
    "lambda_table = table_maker(3, 2, check_string ='lambda')\n",
    "isinstance_table = table_maker(0, 1, check_string ='isinstance')\n",
    "enumerate_table = table_maker(1, 0, check_string ='enumerate')\n",
    "sum_table = table_maker(2, 3, check_string ='sum(')"
   ]
  },
  {
   "cell_type": "code",
   "execution_count": 4,
   "id": "678d6135",
   "metadata": {},
   "outputs": [],
   "source": [
    "#analysis_tables\n",
    "def no_preset_table(table_name):\n",
    "    no_preset_table = table_name.loc[table_name.change.str.contains('No_preset',regex=False), \n",
    "                                     ['id_x', 'group', 'answer_x', 'answer_y', 'delta_time']]\n",
    "    return no_preset_table\n",
    "\n",
    "def no_set_table(table_name):\n",
    "    no_set_table = table_name.loc[table_name.change.str.contains('No_set',regex=False), \n",
    "                                     ['id_x', 'group', 'answer_x', 'answer_y', 'delta_time']]\n",
    "    return no_set_table\n",
    "\n",
    "def is_change_table(table_name):\n",
    "    is_change_table = table_name.loc[(table_name.change.isin([True, False])), \n",
    "                                  ['id_x', 'group', 'answer_x', 'answer_y', 'delta_time', 'change']]\n",
    "    return is_change_table"
   ]
  }
 ],
 "metadata": {
  "kernelspec": {
   "display_name": "Python 3",
   "language": "python",
   "name": "python3"
  },
  "language_info": {
   "codemirror_mode": {
    "name": "ipython",
    "version": 3
   },
   "file_extension": ".py",
   "mimetype": "text/x-python",
   "name": "python",
   "nbconvert_exporter": "python",
   "pygments_lexer": "ipython3",
   "version": "3.9.5"
  }
 },
 "nbformat": 4,
 "nbformat_minor": 5
}