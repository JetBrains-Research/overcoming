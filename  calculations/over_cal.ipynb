{
 "cells": [
  {
   "cell_type": "code",
   "execution_count": 3,
   "id": "ffab89ef",
   "metadata": {},
   "outputs": [],
   "source": [
    "import numpy as np\n",
    "import pandas as pd\n"
   ]
  },
  {
   "cell_type": "code",
   "execution_count": 4,
   "id": "45f84ce6",
   "metadata": {},
   "outputs": [],
   "source": [
    "#raw_tables\n",
    "user = pd.read_csv(\"user.csv\")\n",
    "answer = pd.read_csv(\"answers.csv\")\n",
    "answer['task_time'] = (pd.to_datetime(answer.end_time) - pd.to_datetime(answer.start_time))/np.timedelta64(1,'s')\n",
    "data = pd.merge(user,answer,left_on='time_hash',right_on='user_hid')\n",
    "numbers = data[['id_x','username','group','block_num','task_num','answer','task_time']].dropna()\n"
   ]
  },
  {
   "cell_type": "code",
   "execution_count": 5,
   "id": "89e450fc",
   "metadata": {},
   "outputs": [],
   "source": [
    "#task_tables\n",
    "def table_maker(tn4bl1, tn4bl2, check_string):\n",
    "    bl0t = numbers.loc[(numbers.block_num == 0) & (numbers.task_num ==tn4bl1), ['id_x','group','answer', 'task_time']]\n",
    "    bl1t = numbers.loc[(numbers.block_num == 1) & (numbers.task_num ==tn4bl2), ['id_x','group','answer', 'task_time']]\n",
    "    table_task = pd.merge(bl0t,bl1t,on=['id_x', 'group'])\n",
    "    table_task['delta_time'] = table_task.task_time_y-table_task.task_time_x\n",
    "    table_task['change'] = (table_task.answer_x.str.contains(check_string, regex=False)!=\n",
    "                             table_task.answer_y.str.contains(check_string, regex=False)) \n",
    "    table_task.loc[table_task.answer_x.str.contains(check_string, regex=False), 'change'] = 'No_set'\n",
    "    return table_task\n",
    "\n",
    "lambda_table = table_maker(3, 2, check_string ='lambda')\n",
    "isinstance_table = table_maker(0, 1, check_string ='isinstance')\n",
    "enumerate_table = table_maker(1, 0, check_string ='enumerate')\n",
    "sum_table = table_maker(2, 3, check_string ='sum')"
   ]
  },
  {
   "cell_type": "code",
   "execution_count": 6,
   "id": "fdf1ca5c",
   "metadata": {},
   "outputs": [
    {
     "data": {
      "text/plain": "   id_x  group    answer_x  task_time_x answer_y  task_time_y  delta_time  \\\n0     2      1      папапа     2.749457     аппа     2.725711   -0.023746   \n1    11      1  lambda x:     13.219283    fdhrt     2.912944  -10.306339   \n\n   change  \n0   False  \n1  No_set  ",
      "text/html": "<div>\n<style scoped>\n    .dataframe tbody tr th:only-of-type {\n        vertical-align: middle;\n    }\n\n    .dataframe tbody tr th {\n        vertical-align: top;\n    }\n\n    .dataframe thead th {\n        text-align: right;\n    }\n</style>\n<table border=\"1\" class=\"dataframe\">\n  <thead>\n    <tr style=\"text-align: right;\">\n      <th></th>\n      <th>id_x</th>\n      <th>group</th>\n      <th>answer_x</th>\n      <th>task_time_x</th>\n      <th>answer_y</th>\n      <th>task_time_y</th>\n      <th>delta_time</th>\n      <th>change</th>\n    </tr>\n  </thead>\n  <tbody>\n    <tr>\n      <th>0</th>\n      <td>2</td>\n      <td>1</td>\n      <td>папапа</td>\n      <td>2.749457</td>\n      <td>аппа</td>\n      <td>2.725711</td>\n      <td>-0.023746</td>\n      <td>False</td>\n    </tr>\n    <tr>\n      <th>1</th>\n      <td>11</td>\n      <td>1</td>\n      <td>lambda x:</td>\n      <td>13.219283</td>\n      <td>fdhrt</td>\n      <td>2.912944</td>\n      <td>-10.306339</td>\n      <td>No_set</td>\n    </tr>\n  </tbody>\n</table>\n</div>"
     },
     "execution_count": 6,
     "metadata": {},
     "output_type": "execute_result"
    }
   ],
   "source": [
    "lambda_table"
   ]
  },
  {
   "cell_type": "code",
   "execution_count": 7,
   "id": "fbed7812",
   "metadata": {},
   "outputs": [
    {
     "data": {
      "text/plain": "   id_x  group              answer_x  task_time_x   answer_y  task_time_y  \\\n0     2      1                 вавав     2.747802       вава     1.837587   \n1    11      1  isinstance(var, str)    49.587747  nanansafd     3.451329   \n\n   delta_time  change  \n0   -0.910215   False  \n1  -46.136418  No_set  ",
      "text/html": "<div>\n<style scoped>\n    .dataframe tbody tr th:only-of-type {\n        vertical-align: middle;\n    }\n\n    .dataframe tbody tr th {\n        vertical-align: top;\n    }\n\n    .dataframe thead th {\n        text-align: right;\n    }\n</style>\n<table border=\"1\" class=\"dataframe\">\n  <thead>\n    <tr style=\"text-align: right;\">\n      <th></th>\n      <th>id_x</th>\n      <th>group</th>\n      <th>answer_x</th>\n      <th>task_time_x</th>\n      <th>answer_y</th>\n      <th>task_time_y</th>\n      <th>delta_time</th>\n      <th>change</th>\n    </tr>\n  </thead>\n  <tbody>\n    <tr>\n      <th>0</th>\n      <td>2</td>\n      <td>1</td>\n      <td>вавав</td>\n      <td>2.747802</td>\n      <td>вава</td>\n      <td>1.837587</td>\n      <td>-0.910215</td>\n      <td>False</td>\n    </tr>\n    <tr>\n      <th>1</th>\n      <td>11</td>\n      <td>1</td>\n      <td>isinstance(var, str)</td>\n      <td>49.587747</td>\n      <td>nanansafd</td>\n      <td>3.451329</td>\n      <td>-46.136418</td>\n      <td>No_set</td>\n    </tr>\n  </tbody>\n</table>\n</div>"
     },
     "execution_count": 7,
     "metadata": {},
     "output_type": "execute_result"
    }
   ],
   "source": [
    "isinstance_table"
   ]
  },
  {
   "cell_type": "code",
   "execution_count": 8,
   "id": "c781f6d8",
   "metadata": {},
   "outputs": [
    {
     "data": {
      "text/plain": "   id_x  group            answer_x  task_time_x answer_y  task_time_y  \\\n0     2      1             папапап     4.457172     вава     2.903597   \n1    11      1  enumerate(numbers)    23.062041    nnana    11.055454   \n\n   delta_time  change  \n0   -1.553575   False  \n1  -12.006587  No_set  ",
      "text/html": "<div>\n<style scoped>\n    .dataframe tbody tr th:only-of-type {\n        vertical-align: middle;\n    }\n\n    .dataframe tbody tr th {\n        vertical-align: top;\n    }\n\n    .dataframe thead th {\n        text-align: right;\n    }\n</style>\n<table border=\"1\" class=\"dataframe\">\n  <thead>\n    <tr style=\"text-align: right;\">\n      <th></th>\n      <th>id_x</th>\n      <th>group</th>\n      <th>answer_x</th>\n      <th>task_time_x</th>\n      <th>answer_y</th>\n      <th>task_time_y</th>\n      <th>delta_time</th>\n      <th>change</th>\n    </tr>\n  </thead>\n  <tbody>\n    <tr>\n      <th>0</th>\n      <td>2</td>\n      <td>1</td>\n      <td>папапап</td>\n      <td>4.457172</td>\n      <td>вава</td>\n      <td>2.903597</td>\n      <td>-1.553575</td>\n      <td>False</td>\n    </tr>\n    <tr>\n      <th>1</th>\n      <td>11</td>\n      <td>1</td>\n      <td>enumerate(numbers)</td>\n      <td>23.062041</td>\n      <td>nnana</td>\n      <td>11.055454</td>\n      <td>-12.006587</td>\n      <td>No_set</td>\n    </tr>\n  </tbody>\n</table>\n</div>"
     },
     "execution_count": 8,
     "metadata": {},
     "output_type": "execute_result"
    }
   ],
   "source": [
    "enumerate_table"
   ]
  },
  {
   "cell_type": "code",
   "execution_count": 9,
   "id": "7bd28d7c",
   "metadata": {},
   "outputs": [
    {
     "data": {
      "text/plain": "   id_x  group  answer_x  task_time_x  answer_y  task_time_y  delta_time  \\\n0     2      1   кукукук     2.605249      пррп     3.081188    0.475939   \n1    11      1  sum(num)    11.906200  fdfgfgfh     2.533347   -9.372853   \n\n   change  \n0   False  \n1  No_set  ",
      "text/html": "<div>\n<style scoped>\n    .dataframe tbody tr th:only-of-type {\n        vertical-align: middle;\n    }\n\n    .dataframe tbody tr th {\n        vertical-align: top;\n    }\n\n    .dataframe thead th {\n        text-align: right;\n    }\n</style>\n<table border=\"1\" class=\"dataframe\">\n  <thead>\n    <tr style=\"text-align: right;\">\n      <th></th>\n      <th>id_x</th>\n      <th>group</th>\n      <th>answer_x</th>\n      <th>task_time_x</th>\n      <th>answer_y</th>\n      <th>task_time_y</th>\n      <th>delta_time</th>\n      <th>change</th>\n    </tr>\n  </thead>\n  <tbody>\n    <tr>\n      <th>0</th>\n      <td>2</td>\n      <td>1</td>\n      <td>кукукук</td>\n      <td>2.605249</td>\n      <td>пррп</td>\n      <td>3.081188</td>\n      <td>0.475939</td>\n      <td>False</td>\n    </tr>\n    <tr>\n      <th>1</th>\n      <td>11</td>\n      <td>1</td>\n      <td>sum(num)</td>\n      <td>11.906200</td>\n      <td>fdfgfgfh</td>\n      <td>2.533347</td>\n      <td>-9.372853</td>\n      <td>No_set</td>\n    </tr>\n  </tbody>\n</table>\n</div>"
     },
     "execution_count": 9,
     "metadata": {},
     "output_type": "execute_result"
    }
   ],
   "source": [
    "sum_table"
   ]
  },
  {
   "cell_type": "code",
   "execution_count": 9,
   "id": "270dec5b",
   "metadata": {},
   "outputs": [],
   "source": []
  }
 ],
 "metadata": {
  "kernelspec": {
   "display_name": "Python 3",
   "language": "python",
   "name": "python3"
  },
  "language_info": {
   "codemirror_mode": {
    "name": "ipython",
    "version": 3
   },
   "file_extension": ".py",
   "mimetype": "text/x-python",
   "name": "python",
   "nbconvert_exporter": "python",
   "pygments_lexer": "ipython3",
   "version": "3.9.5"
  }
 },
 "nbformat": 4,
 "nbformat_minor": 5
}