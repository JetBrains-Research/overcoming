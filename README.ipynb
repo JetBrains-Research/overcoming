{
 "cells": [
  {
   "cell_type": "markdown",
   "id": "9e38a4c8",
   "metadata": {},
   "source": [
    "# Overcoming the mental set effect in programming\n",
    "This is the code for an experiment that is held to find an ecologically valid tool to get rid of habitual code smells.  \n",
    "The project contains a Flask app to gather data and a Jupyter notebook to make calculations."
   ]
  },
  {
   "cell_type": "markdown",
   "id": "3f19036b",
   "metadata": {},
   "source": [
    "## Getting Started\n",
    "The app for an experiment is situated in the [«app» folder](../tree/calculation/app).<br/>\n",
    "Prerequisites might be found there in the [requirements.txt](../blob/calculation/app/requirements.txt).<br/>\n",
    "`agniyaserheyuk@MacBook-Pro-Agniya app % pip install -r requirements.txt`\n",
    "\n",
    "[app.py](../blob/calculation/app/app.py) is the main file which should be run to get access to a\n",
    "local website with the experiment.<br/>\n",
    "`agniyaserheyuk@MacBook-Pro-Agniya app % python3 app.py`"
   ]
  },
  {
   "cell_type": "markdown",
   "id": "c54d61ba",
   "metadata": {},
   "source": [
    "## Data\n",
    "All data will go to the newly formed «database» folder into myDB.db file.  \n",
    "In the database two tables may be found: «user» and «answers».  \n",
    "\n",
    "One can find our aproach to data analysis in the [«calculations» folder](..tree/calculation/calculations)\n",
    "in the [over_cal.ipynb file](../blob/calculation/calculations/over_cal.ipynb).\n",
    "\n",
    "*We use this app online and our data is stored on the server, also we use data from a pre-experimental questionnaire,\n",
    "and so one always places myDB.db and prior.csv files to the «calculations» folder manually.\n",
    "Note that the prior.csv file should contain two columns: username and set.\n",
    "Where username is participant's email and set is the name(s) of function(s) which are habitually used by a participant.*"
   ]
  },
  {
   "cell_type": "markdown",
   "id": "9a42a0b1",
   "metadata": {
    "pycharm": {
     "name": "#%% md\n"
    }
   },
   "source": [
    "## Credits\n",
    "This project was made during a summer internship in [Machine Learning for \n",
    "Software Engineering Research Group in JetBrains Research](https://research.jetbrains.org/groups/ml_methods/). <br/>\n",
    "The supervisor and contributor of this project is [Sergey Titov](https://github.com/TitovSergey). <br/>\n",
    "Author: [Agniya Serheyuk](https://github.com/hugnia), St. Petersburg State University."
   ]
  }
 ],
 "metadata": {
  "kernelspec": {
   "display_name": "Python 3",
   "language": "python",
   "name": "python3"
  },
  "language_info": {
   "codemirror_mode": {
    "name": "ipython",
    "version": 3
   },
   "file_extension": ".py",
   "mimetype": "text/x-python",
   "name": "python",
   "nbconvert_exporter": "python",
   "pygments_lexer": "ipython3",
   "version": "3.9.5"
  }
 },
 "nbformat": 4,
 "nbformat_minor": 5
}